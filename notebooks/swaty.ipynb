{
 "cells": [
  {
   "cell_type": "code",
   "execution_count": null,
   "metadata": {},
   "outputs": [],
   "source": [
    "import sys\n",
    "from pathlib import Path\n",
    "from os.path import realpath\n",
    "import argparse\n",
    "import logging\n",
    "for handler in logging.root.handlers[:]:\n",
    "    logging.root.removeHandler(handler)\n",
    "\n",
    "logging.basicConfig(format='%(asctime)s %(message)s')\n",
    "logging.warning('is the time swaty simulation started.')"
   ]
  },
  {
   "cell_type": "code",
   "execution_count": null,
   "metadata": {},
   "outputs": [],
   "source": [
    "from swaty.classes.pycase import swatcase\n",
    "from swaty.swaty_generate_template_configuration_file import swaty_generate_template_configuration_file\n",
    "from swaty.swaty_read_model_configuration_file import swaty_read_model_configuration_file\n",
    "parser = argparse.ArgumentParser()\n",
    "iFlag_option = 1\n",
    "sPath = str( Path().resolve() )\n",
    "sWorkspace_data = realpath( sPath +  '/data/arw' )\n",
    "sWorkspace_input = realpath( sWorkspace_data +  '/input' )\n",
    "sWorkspace_output = '/global/cscratch1/sd/liao313/04model/swat/arw/simulation'\n",
    "sPath_bin = realpath( sPath +  '/bin' )\n",
    "if iFlag_option ==1:\n",
    "    sFilename_configuration_in = realpath( sPath +  '/tests/configurations/template.json' ) \n",
    "    oSwat = swaty_generate_template_configuration_file(sFilename_configuration_in, sWorkspace_input,sWorkspace_output, sPath_bin, iFlag_standalone_in=1, iCase_index_in=3, sDate_in='20220308')\n",
    "    print(oSwat.tojson())\n",
    "else: \n",
    "    if iFlag_option == 2:\n",
    "        sFilename_configuration_in = sPath +  '/tests/configurations/arw.json'\n",
    "        oSwat = swaty_read_model_configuration_file(sFilename_configuration_in, iFlag_standalone_in=1,iCase_index_in=2,sDate_in='20220308', sWorkspace_input_in=sWorkspace_input, sWorkspace_output_in=sWorkspace_output)\n",
    "        print(oSwat.tojson())"
   ]
  },
  {
   "cell_type": "code",
   "execution_count": null,
   "metadata": {},
   "outputs": [],
   "source": [
    "oSwat.setup()\n"
   ]
  },
  {
   "cell_type": "code",
   "execution_count": null,
   "metadata": {},
   "outputs": [],
   "source": []
  },
  {
   "cell_type": "code",
   "execution_count": null,
   "metadata": {},
   "outputs": [],
   "source": [
    "oSwat.run()\n"
   ]
  },
  {
   "cell_type": "code",
   "execution_count": null,
   "metadata": {},
   "outputs": [],
   "source": [
    "oSwat.analyze()\n"
   ]
  },
  {
   "cell_type": "code",
   "execution_count": null,
   "metadata": {},
   "outputs": [],
   "source": [
    "oSwat.evaluate()"
   ]
  },
  {
   "cell_type": "code",
   "execution_count": null,
   "metadata": {},
   "outputs": [],
   "source": [
    "logging.basicConfig(format='%(asctime)s %(message)s')\n",
    "logging.warning('is the time Pyflowline simulation finished.')"
   ]
  }
 ],
 "metadata": {
  "language_info": {
   "name": "python"
  },
  "orig_nbformat": 4
 },
 "nbformat": 4,
 "nbformat_minor": 2
}
